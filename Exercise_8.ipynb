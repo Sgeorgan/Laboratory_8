{
 "cells": [
  {
   "cell_type": "markdown",
   "id": "9c73f17f",
   "metadata": {},
   "source": [
    "# Analyzing and Modifying Raster Data Using NumPy"
   ]
  },
  {
   "cell_type": "markdown",
   "id": "f408666f",
   "metadata": {},
   "source": [
    "### Objective:\n",
    "- To understand how to create and manipulate a 2D NumPy array simulating a raster image.\n",
    "- To apply basic NumPy operations to analyze and modify the raster data."
   ]
  },
  {
   "cell_type": "markdown",
   "id": "b494f481",
   "metadata": {},
   "source": [
    "### Instructions:\n",
    "\n",
    "\n",
    "\n",
    "   - Set all pixels with values below 50 to zero (simulate a threshold operation).\n",
    "4. **Visualization:**\n",
    "   - Use `matplotlib` to display the original and modified raster images side by side."
   ]
  },
  {
   "cell_type": "markdown",
   "id": "903ab0ad",
   "metadata": {},
   "source": [
    "1. **Create a Raster:**\n",
    "   - Create a 100x100 NumPy array to simulate a raster image with random integer values between 0 and 255 (representing grayscale pixel values)."
   ]
  },
  {
   "cell_type": "code",
   "execution_count": null,
   "id": "44a838f6",
   "metadata": {},
   "outputs": [],
   "source": [
    "# Run Code here"
   ]
  },
  {
   "cell_type": "markdown",
   "id": "e2816032",
   "metadata": {},
   "source": [
    "2.\n",
    "   - Calculate the minimum, maximum, and mean values of the raster.\n",
    "   - Count how many pixels have a value greater than 200."
   ]
  },
  {
   "cell_type": "code",
   "execution_count": null,
   "id": "4bbc30a3",
   "metadata": {},
   "outputs": [],
   "source": [
    "# Run Code here"
   ]
  },
  {
   "cell_type": "markdown",
   "id": "800157a5",
   "metadata": {},
   "source": [
    "3. **Modification:**\n",
    "   - Increase the brightness of the raster by adding 50 to each pixel value, ensuring that the maximum value does not exceed 255.\n",
    "    - Set all pixels with values below 50 to zero (simulate a threshold operation)."
   ]
  },
  {
   "cell_type": "code",
   "execution_count": null,
   "id": "4d25a2e0",
   "metadata": {},
   "outputs": [],
   "source": [
    "# Run Code here"
   ]
  },
  {
   "cell_type": "markdown",
   "id": "eeb00c70",
   "metadata": {},
   "source": [
    "4. **Visualization:**\n",
    "   - Use plotting to display the original and modified raster images."
   ]
  },
  {
   "cell_type": "markdown",
   "id": "c0f47173",
   "metadata": {},
   "source": [
    "### Optional Task: Implement the Raster Modifications Using Nested Loops\n"
   ]
  },
  {
   "cell_type": "markdown",
   "id": "13d62b58",
   "metadata": {},
   "source": [
    "1. **Manual Brightening Using Nested Loops:**\n",
    "   - Implement the brightness increase (adding 50 to each pixel) using nested `for` loops instead of vectorized operations.\n",
    "\n",
    "2. **Manual Thresholding Using Nested Loops:**\n",
    "   - Implement the thresholding operation (setting pixels with values below 50 to zero) using nested `for` loops."
   ]
  }
 ],
 "metadata": {
  "kernelspec": {
   "display_name": "Python 3 (ipykernel)",
   "language": "python",
   "name": "python3"
  },
  "language_info": {
   "codemirror_mode": {
    "name": "ipython",
    "version": 3
   },
   "file_extension": ".py",
   "mimetype": "text/x-python",
   "name": "python",
   "nbconvert_exporter": "python",
   "pygments_lexer": "ipython3",
   "version": "3.9.18"
  }
 },
 "nbformat": 4,
 "nbformat_minor": 5
}
